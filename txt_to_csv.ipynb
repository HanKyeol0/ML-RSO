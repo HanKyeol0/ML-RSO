{
 "cells": [
  {
   "cell_type": "markdown",
   "metadata": {},
   "source": [
    "# txt to csv"
   ]
  },
  {
   "cell_type": "markdown",
   "metadata": {},
   "source": [
    "### variable data"
   ]
  },
  {
   "cell_type": "code",
   "execution_count": 4,
   "metadata": {},
   "outputs": [
    {
     "name": "stdout",
     "output_type": "stream",
     "text": [
      "All txt files have been converted to CSV with metadata.\n"
     ]
    }
   ],
   "source": [
    "import os\n",
    "import pandas as pd\n",
    "\n",
    "# Directory containing the .txt files\n",
    "directory = \"C:/SNU/졸업/thesis/Astronomy/Data/variable\"\n",
    "directory_csv = \"C:/SNU/졸업/thesis/Astronomy/csv/variable\"\n",
    "\n",
    "# Function to convert a single .txt file to .csv and save metadata properly\n",
    "def convert_txt_to_csv(txt_file_path, csv_file_path):\n",
    "    with open(txt_file_path, 'r') as file:\n",
    "        lines = file.readlines()\n",
    "    \n",
    "    # Separate metadata and data lines\n",
    "    metadata_lines = [line.strip().replace('# ', '') for line in lines if line.startswith('#')]\n",
    "    data_lines = [line for line in lines if not line.startswith('#')]\n",
    "    \n",
    "    # Process metadata: split into two columns (Key, Value)\n",
    "    metadata_split = [line.split(':', 1) for line in metadata_lines]\n",
    "    metadata_df = pd.DataFrame(metadata_split, columns=['Key', 'Value'])\n",
    "    \n",
    "    # Define the column names for the data\n",
    "    columns = ['Date', 'Time', 'StdMag', 'Mag', 'Filter', 'Penumbra', 'Distance', 'Phase', 'Channel']\n",
    "    \n",
    "    # Read the data into a DataFrame\n",
    "    data = [line.split() for line in data_lines]\n",
    "    df = pd.DataFrame(data, columns=columns)\n",
    "    \n",
    "    # Save both the metadata and data to the CSV\n",
    "    with open(csv_file_path, 'w', newline='') as csv_file:\n",
    "        # Write the metadata first (Key-Value pair)\n",
    "        metadata_df.to_csv(csv_file, index=False, header=False)\n",
    "        csv_file.write(\"\\n\")  # Add a blank line to separate metadata from data\n",
    "        \n",
    "        # Write the actual data\n",
    "        df.to_csv(csv_file, index=False)\n",
    "\n",
    "# Loop through all .txt files in the directory\n",
    "for filename in os.listdir(directory):\n",
    "    if filename.endswith(\".txt\"):\n",
    "        txt_file_path = os.path.join(directory, filename)\n",
    "        csv_file_path = os.path.join(directory_csv, filename.replace('.txt', '.csv'))\n",
    "        \n",
    "        # Convert the .txt file to .csv\n",
    "        convert_txt_to_csv(txt_file_path, csv_file_path)\n",
    "\n",
    "print(\"All txt files have been converted to CSV with metadata.\")"
   ]
  },
  {
   "cell_type": "markdown",
   "metadata": {},
   "source": [
    "### non-variable data"
   ]
  },
  {
   "cell_type": "code",
   "execution_count": 5,
   "metadata": {},
   "outputs": [
    {
     "name": "stdout",
     "output_type": "stream",
     "text": [
      "All txt files have been converted to CSV with metadata.\n"
     ]
    }
   ],
   "source": [
    "import os\n",
    "import pandas as pd\n",
    "\n",
    "# Directory containing the .txt files\n",
    "directory = \"C:/SNU/졸업/thesis/Astronomy/Data/non-variable\"\n",
    "directory_csv = \"C:/SNU/졸업/thesis/Astronomy/csv/non-variable\"\n",
    "\n",
    "# Function to convert a single .txt file to .csv and save metadata properly\n",
    "def convert_txt_to_csv(txt_file_path, csv_file_path):\n",
    "    with open(txt_file_path, 'r') as file:\n",
    "        lines = file.readlines()\n",
    "    \n",
    "    # Separate metadata and data lines\n",
    "    metadata_lines = [line.strip().replace('# ', '') for line in lines if line.startswith('#')]\n",
    "    data_lines = [line for line in lines if not line.startswith('#')]\n",
    "    \n",
    "    # Process metadata: split into two columns (Key, Value)\n",
    "    metadata_split = [line.split(':', 1) for line in metadata_lines]\n",
    "    metadata_df = pd.DataFrame(metadata_split, columns=['Key', 'Value'])\n",
    "    \n",
    "    # Define the column names for the data\n",
    "    columns = ['Date', 'Time', 'StdMag', 'Mag', 'Filter', 'Penumbra', 'Distance', 'Phase', 'Channel']\n",
    "    \n",
    "    # Read the data into a DataFrame\n",
    "    data = [line.split() for line in data_lines]\n",
    "    df = pd.DataFrame(data, columns=columns)\n",
    "    \n",
    "    # Save both the metadata and data to the CSV\n",
    "    with open(csv_file_path, 'w', newline='') as csv_file:\n",
    "        # Write the metadata first (Key-Value pair)\n",
    "        metadata_df.to_csv(csv_file, index=False, header=False)\n",
    "        csv_file.write(\"\\n\")  # Add a blank line to separate metadata from data\n",
    "        \n",
    "        # Write the actual data\n",
    "        df.to_csv(csv_file, index=False)\n",
    "\n",
    "# Loop through all .txt files in the directory\n",
    "for filename in os.listdir(directory):\n",
    "    if filename.endswith(\".txt\"):\n",
    "        txt_file_path = os.path.join(directory, filename)\n",
    "        csv_file_path = os.path.join(directory_csv, filename.replace('.txt', '.csv'))\n",
    "        \n",
    "        # Convert the .txt file to .csv\n",
    "        convert_txt_to_csv(txt_file_path, csv_file_path)\n",
    "\n",
    "print(\"All txt files have been converted to CSV with metadata.\")"
   ]
  }
 ],
 "metadata": {
  "kernelspec": {
   "display_name": "base",
   "language": "python",
   "name": "python3"
  },
  "language_info": {
   "codemirror_mode": {
    "name": "ipython",
    "version": 3
   },
   "file_extension": ".py",
   "mimetype": "text/x-python",
   "name": "python",
   "nbconvert_exporter": "python",
   "pygments_lexer": "ipython3",
   "version": "3.11.7"
  }
 },
 "nbformat": 4,
 "nbformat_minor": 2
}
