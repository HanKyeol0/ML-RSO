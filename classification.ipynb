{
 "cells": [
  {
   "cell_type": "code",
   "execution_count": null,
   "metadata": {},
   "outputs": [],
   "source": [
    "import pandas as pd\n",
    "import os\n",
    "import torch\n",
    "import torch.nn as nn\n",
    "from torch import nn\n",
    "from torch.utils.data import Dataset, DataLoader\n",
    "from sklearn.preprocessing import LabelEncoder\n",
    "from sklearn.preprocessing import StandardScaler\n",
    "import random\n",
    "import numpy as np\n",
    "from sklearn.model_selection import train_test_split\n",
    "import matplotlib.pyplot as plt\n",
    "from sklearn.metrics import confusion_matrix, ConfusionMatrixDisplay\n",
    "import torch.nn.functional as F\n",
    "from datetime import datetime"
   ]
  },
  {
   "cell_type": "markdown",
   "metadata": {},
   "source": [
    "# Task#1: Variability prediction"
   ]
  },
  {
   "cell_type": "markdown",
   "metadata": {},
   "source": [
    "### Data preprocessing"
   ]
  },
  {
   "cell_type": "code",
   "execution_count": 2,
   "metadata": {},
   "outputs": [
    {
     "ename": "NameError",
     "evalue": "name 'Dataset' is not defined",
     "output_type": "error",
     "traceback": [
      "\u001b[1;31m---------------------------------------------------------------------------\u001b[0m",
      "\u001b[1;31mNameError\u001b[0m                                 Traceback (most recent call last)",
      "Cell \u001b[1;32mIn[2], line 13\u001b[0m\n\u001b[0;32m     10\u001b[0m     \u001b[38;5;28;01melse\u001b[39;00m:\n\u001b[0;32m     11\u001b[0m         \u001b[38;5;28mprint\u001b[39m(label)\n\u001b[1;32m---> 13\u001b[0m \u001b[38;5;28;01mclass\u001b[39;00m \u001b[38;5;21;01mLightCurveDataset\u001b[39;00m(Dataset):\n\u001b[0;32m     14\u001b[0m     \u001b[38;5;28;01mdef\u001b[39;00m \u001b[38;5;21m__init__\u001b[39m(\u001b[38;5;28mself\u001b[39m, files, sequence_length\u001b[38;5;241m=\u001b[39m\u001b[38;5;241m1000\u001b[39m):\n\u001b[0;32m     15\u001b[0m         \u001b[38;5;28mself\u001b[39m\u001b[38;5;241m.\u001b[39mfiles \u001b[38;5;241m=\u001b[39m files\n",
      "\u001b[1;31mNameError\u001b[0m: name 'Dataset' is not defined"
     ]
    }
   ],
   "source": [
    "# Helper function to clean and fix variability labels\n",
    "def clean_variability_label(label):\n",
    "    label = label.lower()\n",
    "    if \"periodic\" in label:\n",
    "        return \"periodic\"\n",
    "    elif \"aperiodic\" in label:\n",
    "        return \"aperiodic\"\n",
    "    elif \"not\" in label:\n",
    "        return \"not variable\"\n",
    "    else:\n",
    "        print(label)\n",
    "\n",
    "class LightCurveDataset(Dataset):\n",
    "    def __init__(self, files, sequence_length=1000):\n",
    "        self.files = files\n",
    "        self.sequence_length = sequence_length\n",
    "\n",
    "    def __len__(self):\n",
    "        return len(self.files)\n",
    "\n",
    "    def __getitem__(self, idx):\n",
    "        # Load CSV file (skip metadata rows)\n",
    "        df = pd.read_csv(self.files[idx], skiprows=9)\n",
    "\n",
    "        # Extract date, time, StdMag\n",
    "        df['Timestamp'] = pd.to_datetime(df['Date'] + ' ' + df['Time'], errors='coerce')\n",
    "        df['Timestamp'] = df['Timestamp'].ffill()\n",
    "        #df = df.dropna(subset=['Timestamp']) #filling이 아니라 drop하고 싶다면 대체\n",
    "        df = df.sort_values('Timestamp')\n",
    "        df['TimeDiff'] = df['Timestamp'].diff().dt.total_seconds().fillna(0)\n",
    "\n",
    "        # Convert to tensors\n",
    "        stdmag = torch.tensor(df['StdMag'].values, dtype=torch.float32)\n",
    "        time_diff = torch.tensor(df['TimeDiff'].values, dtype=torch.float32)\n",
    "\n",
    "        # Pad or truncate sequences to fixed length\n",
    "        seq_len = len(stdmag)\n",
    "        if seq_len > self.sequence_length:\n",
    "            start_idx = random.randint(0, seq_len - self.sequence_length)\n",
    "            stdmag = stdmag[start_idx:start_idx + self.sequence_length]\n",
    "            time_diff = time_diff[start_idx:start_idx + self.sequence_length]\n",
    "            seq_len = self.sequence_length\n",
    "        else:\n",
    "            padding = self.sequence_length - seq_len\n",
    "            stdmag = torch.cat([stdmag, torch.zeros(padding)])\n",
    "            time_diff = torch.cat([time_diff, torch.zeros(padding)])\n",
    "\n",
    "        # Variability type label\n",
    "        try:\n",
    "            metadata = pd.read_csv(self.files[idx], nrows=5, header=None)\n",
    "            variability_type = metadata.iloc[3, 1]\n",
    "            variability_type = clean_variability_label(str(variability_type))\n",
    "        except (IndexError, AttributeError, KeyError):\n",
    "            variability_type = 'not variable'\n",
    "        label = torch.tensor(label_encoder.transform([variability_type])[0], dtype=torch.long)\n",
    "\n",
    "        return time_diff, stdmag, label"
   ]
  }
 ],
 "metadata": {
  "kernelspec": {
   "display_name": "base",
   "language": "python",
   "name": "python3"
  },
  "language_info": {
   "codemirror_mode": {
    "name": "ipython",
    "version": 3
   },
   "file_extension": ".py",
   "mimetype": "text/x-python",
   "name": "python",
   "nbconvert_exporter": "python",
   "pygments_lexer": "ipython3",
   "version": "3.11.7"
  }
 },
 "nbformat": 4,
 "nbformat_minor": 2
}
